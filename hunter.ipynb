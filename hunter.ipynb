{
 "cells": [
  {
   "cell_type": "markdown",
   "metadata": {},
   "source": [
    "# 獵人念能力測驗網站\n",
    "\n",
    "這是一個使用 Vue.js 開發的互動式心理測驗網站。本筆記本將展示如何運行和使用這個應用程式。\n",
    "\n",
    "## 環境設置"
   ]
  },
  {
   "cell_type": "code",
   "execution_count": null,
   "metadata": {},
   "outputs": [],
   "source": [
    "!pip install jupyter-server-proxy\n",
    "!npm install -g @vue/cli"
   ]
  },
  {
   "cell_type": "markdown",
   "metadata": {},
   "source": [
    "## 專案結構\n",
    "讓我們查看專案的文件結構："
   ]
  },
  {
   "cell_type": "code",
   "execution_count": null,
   "metadata": {},
   "outputs": [],
   "source": [
    "!tree -I 'node_modules|dist'"
   ]
  },
  {
   "cell_type": "markdown",
   "metadata": {},
   "source": [
    "## 安裝依賴\n",
    "首先需要安裝專案所需的依賴："
   ]
  },
  {
   "cell_type": "code",
   "execution_count": null,
   "metadata": {},
   "outputs": [],
   "source": [
    "!npm install"
   ]
  },
  {
   "cell_type": "markdown",
   "metadata": {},
   "source": [
    "## 啟動開發服務器\n",
    "現在我們可以啟動開發服務器："
   ]
  },
  {
   "cell_type": "code",
   "execution_count": null,
   "metadata": {},
   "outputs": [],
   "source": [
    "from IPython.display import HTML, display\n",
    "import subprocess\n",
    "import time\n",
    "\n",
    "# 啟動 Vite 開發服務器\n",
    "server = subprocess.Popen(['npm', 'run', 'dev'])\n",
    "\n",
    "# 等待服務器啟動\n",
    "time.sleep(3)\n",
    "\n",
    "# 顯示應用程式\n",
    "display(HTML('''\n",
    "<iframe\n",
    "    src=\"http://localhost:5173\"\n",
    "    width=\"100%\"\n",
    "    height=\"800px\"\n",
    "    style=\"border: 1px solid black;\"\n",
    ">\n",
    "</iframe>\n",
    "'''))"
   ]
  },
  {
   "cell_type": "markdown",
   "metadata": {},
   "source": [
    "## 主要功能展示\n",
    "\n",
    "### 1. 首頁設計\n",
    "首頁包含以下元素：\n",
    "- 標題橫幅\n",
    "- 測驗說明\n",
    "- 六大念能力類型介紹\n",
    "- 開始測驗按鈕\n",
    "- 社群分享按鈕"
   ]
  },
  {
   "cell_type": "code",
   "execution_count": null,
   "metadata": {},
   "outputs": [],
   "source": [
    "# 顯示 Home.vue 的內容\n",
    "with open('src/views/Home.vue', 'r', encoding='utf-8') as file:\n",
    "    print(file.read())"
   ]
  },
  {
   "cell_type": "markdown",
   "metadata": {},
   "source": [
    "### 2. 測驗問題\n",
    "展示測驗的問題設計："
   ]
  },
  {
   "cell_type": "code",
   "execution_count": null,
   "metadata": {},
   "outputs": [],
   "source": [
    "# 顯示 quizData.js 的內容\n",
    "with open('src/data/quizData.js', 'r', encoding='utf-8') as file:\n",
    "    print(file.read())"
   ]
  },
  {
   "cell_type": "markdown",
   "metadata": {},
   "source": [
    "### 3. 結果頁面\n",
    "展示測驗結果頁面的設計："
   ]
  },
  {
   "cell_type": "code",
   "execution_count": null,
   "metadata": {},
   "outputs": [],
   "source": [
    "# 顯示 Quiz.vue 中的結果部分\n",
    "import re\n",
    "\n",
    "with open('src/views/Quiz.vue', 'r', encoding='utf-8') as file:\n",
    "    content = file.read()\n",
    "    result_template = re.search(r'<template v-else-if=\"currentStage === \\'result\\'\">[\\s\\S]*?</template>', content)\n",
    "    if result_template:\n",
    "        print(result_template.group())"
   ]
  },
  {
   "cell_type": "markdown",
   "metadata": {},
   "source": [
    "## 響應式設計展示\n",
    "展示不同螢幕尺寸下的顯示效果："
   ]
  },
  {
   "cell_type": "code",
   "execution_count": null,
   "metadata": {},
   "outputs": [],
   "source": [
    "# 使用不同的 viewport 大小顯示應用程式\n",
    "viewports = [\n",
    "    ('Desktop', '1200px'),\n",
    "    ('Tablet', '768px'),\n",
    "    ('Mobile', '375px')\n",
    "]\n",
    "\n",
    "for device, width in viewports:\n",
    "    display(HTML(f'''\n",
    "    <h3>{device} View ({width})</h3>\n",
    "    <iframe\n",
    "        src=\"http://localhost:5173\"\n",
    "        width=\"{width}\"\n",
    "        height=\"600px\"\n",
    "        style=\"border: 1px solid black; resize: both;\"\n",
    "    >\n",
    "    </iframe>\n",
    "    '''))"
   ]
  },
  {
   "cell_type": "markdown",
   "metadata": {},
   "source": [
    "## 清理資源\n",
    "關閉開發服務器："
   ]
  },
  {
   "cell_type": "code",
   "execution_count": null,
   "metadata": {},
   "outputs": [],
   "source": [
    "# 關閉開發服務器\n",
    "server.terminate()"
   ]
  }
 ],
 "metadata": {
  "kernelspec": {
   "display_name": "Python 3",
   "language": "python",
   "name": "python3"
  },
  "language_info": {
   "codemirror_mode": {
    "name": "ipython",
    "version": 3
   },
   "file_extension": ".py",
   "mimetype": "text/x-python",
   "name": "python",
   "nbconvert_exporter": "python",
   "pygments_lexer": "ipython3",
   "version": "3.10.7"
  }
 },
 "nbformat": 4,
 "nbformat_minor": 4
}
